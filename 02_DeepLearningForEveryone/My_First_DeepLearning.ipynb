{
 "cells": [
  {
   "cell_type": "markdown",
   "id": "e224d3b7",
   "metadata": {},
   "source": [
    "# 폐암 수술 환자의 생존율 예측 모델\n",
    " - keras 이용"
   ]
  },
  {
   "cell_type": "code",
   "execution_count": 1,
   "id": "7260051c",
   "metadata": {},
   "outputs": [
    {
     "name": "stderr",
     "output_type": "stream",
     "text": [
      "2021-12-14 13:49:48.497929: W tensorflow/stream_executor/platform/default/dso_loader.cc:64] Could not load dynamic library 'libcudart.so.11.0'; dlerror: libcudart.so.11.0: cannot open shared object file: No such file or directory\n",
      "2021-12-14 13:49:48.497964: I tensorflow/stream_executor/cuda/cudart_stub.cc:29] Ignore above cudart dlerror if you do not have a GPU set up on your machine.\n",
      "/usr/lib/python3/dist-packages/requests/__init__.py:89: RequestsDependencyWarning: urllib3 (1.26.7) or chardet (3.0.4) doesn't match a supported version!\n",
      "  warnings.warn(\"urllib3 ({}) or chardet ({}) doesn't match a supported \"\n"
     ]
    }
   ],
   "source": [
    "# 딥러닝을 구동하는데 필요한 케라스 함수 호출\n",
    "\n",
    "from keras.models import Sequential\n",
    "from keras.layers import Dense"
   ]
  },
  {
   "cell_type": "code",
   "execution_count": 2,
   "id": "969e456c",
   "metadata": {},
   "outputs": [],
   "source": [
    "# 필요한 라이브러리를 불러옵니다.\n",
    "import numpy\n",
    "import tensorflow as tf\n",
    "tf.compat.v1.disable_eager_execution()"
   ]
  },
  {
   "cell_type": "code",
   "execution_count": 4,
   "id": "0d3a9eeb",
   "metadata": {},
   "outputs": [],
   "source": [
    "# 실행할 때마다 같은 결과를 출력하기 위해서 seed를 설정한다.\n",
    "seed = 0\n",
    "numpy.random.seed(seed)\n",
    "tf.compat.v1.set_random_seed(seed)"
   ]
  },
  {
   "cell_type": "code",
   "execution_count": 7,
   "id": "64c0a585",
   "metadata": {
    "scrolled": true
   },
   "outputs": [],
   "source": [
    "# 준비된 수술 환자 데이터를 불러옵니다.\n",
    "Data_set = numpy.loadtxt('./dataset/ThoraricSurgery.csv', delimiter=\",\")"
   ]
  },
  {
   "cell_type": "code",
   "execution_count": 8,
   "id": "47cdb5b5",
   "metadata": {},
   "outputs": [],
   "source": [
    "# 환자의 기록과 수술 결과를 X와 Y로 구분하여 저장합니다.\n",
    "X = Data_set[:, 0:17]\n",
    "Y = Data_set[:, 17]"
   ]
  },
  {
   "cell_type": "code",
   "execution_count": 9,
   "id": "bd54e7cc",
   "metadata": {},
   "outputs": [],
   "source": [
    "# 딥러닝 구조를 결정합니다.\n",
    "# 모델을 설정하고 실행하는 부분입니다.\n",
    "model = Sequential()\n",
    "model.add(Dense(30, input_dim=17, activation='relu'))\n",
    "model.add(Dense(1, activation='sigmoid'))"
   ]
  },
  {
   "cell_type": "code",
   "execution_count": 13,
   "id": "154e54d7",
   "metadata": {},
   "outputs": [
    {
     "name": "stdout",
     "output_type": "stream",
     "text": [
      "Train on 470 samples\n",
      "Epoch 1/30\n",
      "470/470 [==============================] - 0s 222us/sample - loss: 0.1502 - accuracy: 0.8489\n",
      "Epoch 2/30\n",
      "470/470 [==============================] - 0s 138us/sample - loss: 0.1491 - accuracy: 0.8511\n",
      "Epoch 3/30\n",
      "470/470 [==============================] - 0s 137us/sample - loss: 0.1484 - accuracy: 0.8489\n",
      "Epoch 4/30\n",
      "470/470 [==============================] - 0s 138us/sample - loss: 0.1484 - accuracy: 0.8511\n",
      "Epoch 5/30\n",
      "470/470 [==============================] - 0s 145us/sample - loss: 0.1487 - accuracy: 0.8511\n",
      "Epoch 6/30\n",
      "470/470 [==============================] - 0s 214us/sample - loss: 0.1481 - accuracy: 0.8511\n",
      "Epoch 7/30\n",
      "470/470 [==============================] - 0s 213us/sample - loss: 0.1468 - accuracy: 0.8468\n",
      "Epoch 8/30\n",
      "470/470 [==============================] - 0s 137us/sample - loss: 0.1454 - accuracy: 0.8532\n",
      "Epoch 9/30\n",
      "470/470 [==============================] - 0s 128us/sample - loss: 0.1523 - accuracy: 0.8383\n",
      "Epoch 10/30\n",
      "470/470 [==============================] - 0s 160us/sample - loss: 0.1481 - accuracy: 0.8511\n",
      "Epoch 11/30\n",
      "470/470 [==============================] - 0s 180us/sample - loss: 0.1478 - accuracy: 0.8511 - loss: 0.1335 - accuracy: 0.86\n",
      "Epoch 12/30\n",
      "470/470 [==============================] - 0s 147us/sample - loss: 0.1448 - accuracy: 0.8532\n",
      "Epoch 13/30\n",
      "470/470 [==============================] - 0s 146us/sample - loss: 0.1459 - accuracy: 0.8511\n",
      "Epoch 14/30\n",
      "470/470 [==============================] - 0s 131us/sample - loss: 0.1459 - accuracy: 0.8511\n",
      "Epoch 15/30\n",
      "470/470 [==============================] - 0s 139us/sample - loss: 0.1447 - accuracy: 0.8532\n",
      "Epoch 16/30\n",
      "470/470 [==============================] - 0s 212us/sample - loss: 0.1477 - accuracy: 0.8489\n",
      "Epoch 17/30\n",
      "470/470 [==============================] - 0s 186us/sample - loss: 0.1479 - accuracy: 0.8511\n",
      "Epoch 18/30\n",
      "470/470 [==============================] - 0s 166us/sample - loss: 0.1464 - accuracy: 0.8511\n",
      "Epoch 19/30\n",
      "470/470 [==============================] - 0s 129us/sample - loss: 0.1461 - accuracy: 0.8511\n",
      "Epoch 20/30\n",
      "470/470 [==============================] - 0s 115us/sample - loss: 0.1472 - accuracy: 0.8511\n",
      "Epoch 21/30\n",
      "470/470 [==============================] - 0s 133us/sample - loss: 0.1432 - accuracy: 0.8532\n",
      "Epoch 22/30\n",
      "470/470 [==============================] - 0s 161us/sample - loss: 0.1464 - accuracy: 0.8511\n",
      "Epoch 23/30\n",
      "470/470 [==============================] - 0s 202us/sample - loss: 0.1450 - accuracy: 0.8468\n",
      "Epoch 24/30\n",
      "470/470 [==============================] - 0s 210us/sample - loss: 0.1453 - accuracy: 0.8511\n",
      "Epoch 25/30\n",
      "470/470 [==============================] - 0s 181us/sample - loss: 0.1447 - accuracy: 0.8511\n",
      "Epoch 26/30\n",
      "470/470 [==============================] - 0s 139us/sample - loss: 0.1433 - accuracy: 0.8553\n",
      "Epoch 27/30\n",
      "470/470 [==============================] - 0s 129us/sample - loss: 0.1461 - accuracy: 0.8511\n",
      "Epoch 28/30\n",
      "470/470 [==============================] - 0s 195us/sample - loss: 0.1444 - accuracy: 0.8511\n",
      "Epoch 29/30\n",
      "470/470 [==============================] - 0s 234us/sample - loss: 0.1437 - accuracy: 0.8532\n",
      "Epoch 30/30\n",
      "470/470 [==============================] - 0s 378us/sample - loss: 0.1429 - accuracy: 0.8532\n"
     ]
    },
    {
     "data": {
      "text/plain": [
       "<keras.callbacks.History at 0x7f60fec7aa00>"
      ]
     },
     "execution_count": 13,
     "metadata": {},
     "output_type": "execute_result"
    }
   ],
   "source": [
    "# 딥러닝을 실행합니다.\n",
    "# 오차함수 : 평균제곱 오차함수 [mean_squared_error]\n",
    "model.compile(loss='mean_squared_error', optimizer='adam', metrics=['accuracy'])\n",
    "# 오차함수 : 이항 교차 엔트로피 [binary_crossentopy]\n",
    "# model.compile(loss='binary_crossentopy', optimizer='adam', metrics=['accuracy'])\n",
    "model.fit(X, Y, epochs=30, batch_size=10)"
   ]
  },
  {
   "cell_type": "code",
   "execution_count": 14,
   "id": "138764a7",
   "metadata": {},
   "outputs": [
    {
     "name": "stdout",
     "output_type": "stream",
     "text": [
      "\n",
      " Accuracy : 0.8574\n"
     ]
    }
   ],
   "source": [
    "# 결과를 출력합니다.\n",
    "print(\"\\n Accuracy : %.4f\" % (model.evaluate(X, Y)[1]))"
   ]
  }
 ],
 "metadata": {
  "kernelspec": {
   "display_name": "Python 3 (ipykernel)",
   "language": "python",
   "name": "python3"
  },
  "language_info": {
   "codemirror_mode": {
    "name": "ipython",
    "version": 3
   },
   "file_extension": ".py",
   "mimetype": "text/x-python",
   "name": "python",
   "nbconvert_exporter": "python",
   "pygments_lexer": "ipython3",
   "version": "3.8.10"
  }
 },
 "nbformat": 4,
 "nbformat_minor": 5
}
