{
 "cells": [
  {
   "cell_type": "code",
   "execution_count": 2,
   "id": "fb50a72d",
   "metadata": {},
   "outputs": [],
   "source": [
    "import tensorflow as tf\n",
    "import numpy as np\n",
    "tf.compat.v1.disable_eager_execution()"
   ]
  },
  {
   "cell_type": "code",
   "execution_count": 4,
   "id": "8dc690bb",
   "metadata": {},
   "outputs": [],
   "source": [
    "# 실행할 때마다 같은 결과를 출력하기 위한 seed값 설정\n",
    "seed = 0\n",
    "np.random.seed(seed)\n",
    "tf.compat.v1.set_random_seed(seed)"
   ]
  },
  {
   "cell_type": "code",
   "execution_count": 6,
   "id": "4defabd9",
   "metadata": {},
   "outputs": [],
   "source": [
    "# x, y의 데이터 값\n",
    "x_data = np.array([[2,3],[3,4],[6,4],[8,6],[10,7],[12,8],[14,9]])\n",
    "y_data = np.array([0,0,0,1,1,1,1]).reshape(7,1)\n"
   ]
  },
  {
   "cell_type": "code",
   "execution_count": 15,
   "id": "2d5689b7",
   "metadata": {},
   "outputs": [],
   "source": [
    "# 입력 값을 플레이스 홀더에 저장한다.\n",
    "X = tf.compat.v1.placeholder(tf.float64, shape=[None, 2])\n",
    "Y = tf.compat.v1.placeholder(tf.float64, shape=[None, 1])"
   ]
  },
  {
   "cell_type": "code",
   "execution_count": 16,
   "id": "41e635c7",
   "metadata": {},
   "outputs": [],
   "source": [
    "# 기울기 a와 바이어스 b의 값을 임의로 정한다.\n",
    "a = tf.Variable(tf.compat.v1.random_uniform([2,1], dtype=tf.float64))\n",
    "b = tf.Variable(tf.compat.v1.random_uniform([1], dtype=tf.float64))"
   ]
  },
  {
   "cell_type": "code",
   "execution_count": 19,
   "id": "a433c1e2",
   "metadata": {},
   "outputs": [],
   "source": [
    "# y 시그모이드 함수의 방정식을 세운다.\n",
    "y = tf.sigmoid(tf.matmul(X, a) + b)"
   ]
  },
  {
   "cell_type": "code",
   "execution_count": 21,
   "id": "6e5a6efd",
   "metadata": {},
   "outputs": [],
   "source": [
    "# 오차(loss)를 구하는 함수\n",
    "loss = -tf.reduce_mean(Y * tf.compat.v1.log(y) + (1 - Y) * tf.compat.v1.log(1 - y))"
   ]
  },
  {
   "cell_type": "code",
   "execution_count": 22,
   "id": "da072200",
   "metadata": {},
   "outputs": [],
   "source": [
    "# 학습률 값을 지정한다.\n",
    "learning_rate = 0.1"
   ]
  },
  {
   "cell_type": "code",
   "execution_count": 24,
   "id": "32dd61d6",
   "metadata": {},
   "outputs": [],
   "source": [
    "# 오차를 최소로 하는 값을 찾는다.\n",
    "gradient_descent = tf.compat.v1.train.GradientDescentOptimizer(learning_rate).minimize(loss)\n",
    "\n",
    "predicted = tf.cast(y > 0.5, dtype=tf.float64)\n",
    "accuracy = tf.reduce_mean(tf.cast(tf.equal(predicted, Y), dtype=tf.float64))"
   ]
  },
  {
   "cell_type": "code",
   "execution_count": 41,
   "id": "61607cd1",
   "metadata": {
    "scrolled": false
   },
   "outputs": [
    {
     "name": "stdout",
     "output_type": "stream",
     "text": [
      "공부한 시간 : 14, 과외 수업 횟수 : 5\n",
      "합격 가능성 :  98.18 %\n"
     ]
    }
   ],
   "source": [
    "# 학습을 진행한다.\n",
    "with tf.compat.v1.Session() as sess:\n",
    "    sess.run(tf.compat.v1.global_variables_initializer())\n",
    "    for i in range(10000):\n",
    "        a_, b_, loss_, _ = sess.run([a, b, loss, gradient_descent], feed_dict={X:x_data, Y:y_data})\n",
    "#         if (i+1) % 300 == 0:\n",
    "#             print(\"step=%d, a1=%.4f, a2=%.4f, b=%.4f, loss=%.4f\" % (i+1, a_[0], a_[1], b_, loss_))\n",
    "    # 실제값 적용으로 예측값 구하는 방법\n",
    "    # 7시간 공부하고 6시간 과외받은 학생의 점수는?\n",
    "    new_x = np.array([14,5]).reshape(1,2)\n",
    "    new_y = sess.run(y, feed_dict={X:new_x})\n",
    "\n",
    "    print(\"공부한 시간 : %d, 과외 수업 횟수 : %d\" % (new_x[:,0], new_x[:, 1]))\n",
    "    print(\"합격 가능성 : %6.2f %%\" % (new_y*100))"
   ]
  }
 ],
 "metadata": {
  "kernelspec": {
   "display_name": "Python 3 (ipykernel)",
   "language": "python",
   "name": "python3"
  },
  "language_info": {
   "codemirror_mode": {
    "name": "ipython",
    "version": 3
   },
   "file_extension": ".py",
   "mimetype": "text/x-python",
   "name": "python",
   "nbconvert_exporter": "python",
   "pygments_lexer": "ipython3",
   "version": "3.8.10"
  }
 },
 "nbformat": 4,
 "nbformat_minor": 5
}
