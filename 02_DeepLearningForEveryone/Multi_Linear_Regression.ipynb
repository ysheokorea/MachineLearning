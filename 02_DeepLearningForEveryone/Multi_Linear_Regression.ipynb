{
 "cells": [
  {
   "cell_type": "markdown",
   "id": "6ca5f382",
   "metadata": {},
   "source": [
    "# 모두의 딥러닝 책 예제코드 실행\n",
    "4. 오차 수정하기: 경사 하강법\n",
    " - 다중선형회귀"
   ]
  },
  {
   "cell_type": "code",
   "execution_count": 28,
   "id": "81135699",
   "metadata": {},
   "outputs": [],
   "source": [
    "import tensorflow as tf\n",
    "tf.compat.v1.disable_eager_execution()"
   ]
  },
  {
   "cell_type": "code",
   "execution_count": 29,
   "id": "6ab4abe3",
   "metadata": {},
   "outputs": [],
   "source": [
    " # x1,x2,y의 데이터 값\n",
    "    \n",
    "data=[[2,0,81],[4,4,93],[6,2,91],[8,3,97]]\n",
    "x1_data = [x_row1[0] for x_row1 in data]\n",
    "x2_data = [x_row2[1] for x_row2 in data]\n",
    "y_data = [y_row[2] for y_row in data]"
   ]
  },
  {
   "cell_type": "code",
   "execution_count": 30,
   "id": "f475d605",
   "metadata": {},
   "outputs": [],
   "source": [
    "a1 = tf.Variable(tf.compat.v1.random_uniform([1], 0, 10, dtype=tf.float64, seed=0))\n",
    "a2 = tf.Variable(tf.compat.v1.random_uniform([1], 0, 10, dtype=tf.float64, seed=0))\n",
    "b = tf.Variable(tf.compat.v1.random_uniform([1], 0, 100, dtype=tf.float64, seed=0))"
   ]
  },
  {
   "cell_type": "code",
   "execution_count": 31,
   "id": "377b4fe3",
   "metadata": {},
   "outputs": [],
   "source": [
    "# 다중 선형 회귀 방정식\n",
    "y = a1*x1_data+a2*x2_data+b"
   ]
  },
  {
   "cell_type": "code",
   "execution_count": 32,
   "id": "dab48f65",
   "metadata": {},
   "outputs": [],
   "source": [
    "# tensorflow RMSE 함수\n",
    "rmse=tf.sqrt(tf.reduce_mean(tf.square(y-y_data)))"
   ]
  },
  {
   "cell_type": "code",
   "execution_count": 33,
   "id": "08ef8c3e",
   "metadata": {},
   "outputs": [],
   "source": [
    "\n",
    "# 학습률 값\n",
    "learning_rate = 0.1"
   ]
  },
  {
   "cell_type": "code",
   "execution_count": 34,
   "id": "95bbef32",
   "metadata": {},
   "outputs": [],
   "source": [
    "\n",
    "# RMSE 값을 최소로 하는 값 찾기\n",
    "gradient_descent = tf.compat.v1.train.GradientDescentOptimizer(learning_rate).minimize(rmse)\n"
   ]
  },
  {
   "cell_type": "code",
   "execution_count": 35,
   "id": "dba146ca",
   "metadata": {},
   "outputs": [
    {
     "name": "stdout",
     "output_type": "stream",
     "text": [
      "Epoch : 0, RMSE= 49.184209823505505, 기울기 a1= [7.52702889], 기울기 a2=[7.81601429], y 절편 b = [80.59799409]\n",
      "Epoch : 100, RMSE= 1.8368122327362915, 기울기 a1= [1.13055939], 기울기 a2=[2.13164504], y 절편 b = [78.51188663]\n",
      "Epoch : 200, RMSE= 1.836972066866047, 기울기 a1= [1.18786995], 기울기 a2=[2.14874937], y 절편 b = [78.10570256]\n",
      "Epoch : 300, RMSE= 1.837000073075891, 기울기 a1= [1.21221867], 기울기 a2=[2.15710359], y 절편 b = [77.93517322]\n",
      "Epoch : 400, RMSE= 1.8370049955474927, 기울기 a1= [1.22256363], 기울기 a2=[2.16066636], y 절편 b = [77.8635534]\n",
      "Epoch : 500, RMSE= 1.8370058636641906, 기울기 a1= [1.22693008], 기울기 a2=[2.16217239], y 절편 b = [77.83346904]\n",
      "Epoch : 600, RMSE= 1.837006016856658, 기울기 a1= [1.22876806], 기울기 a2=[2.16280672], y 절편 b = [77.82083106]\n",
      "Epoch : 700, RMSE= 1.8370060438927451, 기울기 a1= [1.22954084], 기울기 a2=[2.16307349], y 절편 b = [77.81552189]\n",
      "Epoch : 800, RMSE= 1.8370060486642692, 기울기 a1= [1.22986561], 기울기 a2=[2.16318562], y 절편 b = [77.81329149]\n",
      "Epoch : 900, RMSE= 1.8370060495064093, 기울기 a1= [1.23000206], 기울기 a2=[2.16323273], y 절편 b = [77.8123545]\n",
      "Epoch : 1000, RMSE= 1.8370060496550469, 기울기 a1= [1.23005939], 기울기 a2=[2.16325253], y 절편 b = [77.81196086]\n",
      "Epoch : 1100, RMSE= 1.8370060496812655, 기울기 a1= [1.23008347], 기울기 a2=[2.16326084], y 절편 b = [77.81179549]\n",
      "Epoch : 1200, RMSE= 1.8370060496859097, 기울기 a1= [1.23009359], 기울기 a2=[2.16326434], y 절편 b = [77.81172602]\n",
      "Epoch : 1300, RMSE= 1.8370060496867098, 기울기 a1= [1.23009784], 기울기 a2=[2.1632658], y 절편 b = [77.81169683]\n",
      "Epoch : 1400, RMSE= 1.837006049686844, 기울기 a1= [1.23009963], 기울기 a2=[2.16326642], y 절편 b = [77.81168457]\n",
      "Epoch : 1500, RMSE= 1.837006049686877, 기울기 a1= [1.23010038], 기울기 a2=[2.16326668], y 절편 b = [77.81167942]\n",
      "Epoch : 1600, RMSE= 1.8370060496868628, 기울기 a1= [1.23010069], 기울기 a2=[2.16326679], y 절편 b = [77.81167726]\n",
      "Epoch : 1700, RMSE= 1.8370060496868623, 기울기 a1= [1.23010083], 기울기 a2=[2.16326683], y 절편 b = [77.81167635]\n",
      "Epoch : 1800, RMSE= 1.837006049686892, 기울기 a1= [1.23010088], 기울기 a2=[2.16326685], y 절편 b = [77.81167597]\n",
      "Epoch : 1900, RMSE= 1.8370060496868983, 기울기 a1= [1.2301009], 기울기 a2=[2.16326686], y 절편 b = [77.8116758]\n"
     ]
    }
   ],
   "source": [
    "# tensorflow 이용 학습\n",
    "with tf.compat.v1.Session() as sess:\n",
    "    # 변수 초기화\n",
    "    sess.run(tf.compat.v1.global_variables_initializer())\n",
    "    \n",
    "    # 2001번 실행\n",
    "    for step in range(2000):\n",
    "        sess.run(gradient_descent)\n",
    "        # 100번 마다 출력\n",
    "        if step % 100 == 0:\n",
    "            print(\"Epoch : {0}, RMSE= {1}, 기울기 a1= {2}, 기울기 a2={3}, y 절편 b = {4}\".format(step, sess.run(rmse), sess.run(a1), sess.run(a2), sess.run(b)))"
   ]
  }
 ],
 "metadata": {
  "kernelspec": {
   "display_name": "Python 3 (ipykernel)",
   "language": "python",
   "name": "python3"
  },
  "language_info": {
   "codemirror_mode": {
    "name": "ipython",
    "version": 3
   },
   "file_extension": ".py",
   "mimetype": "text/x-python",
   "name": "python",
   "nbconvert_exporter": "python",
   "pygments_lexer": "ipython3",
   "version": "3.8.10"
  }
 },
 "nbformat": 4,
 "nbformat_minor": 5
}
