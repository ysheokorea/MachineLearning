{
 "cells": [
  {
   "cell_type": "code",
   "execution_count": 25,
   "id": "11024ec7",
   "metadata": {},
   "outputs": [],
   "source": [
    "import tensorflow as tf\n",
    "import numpy as np\n",
    "tf.compat.v1.disable_eager_execution()"
   ]
  },
  {
   "cell_type": "code",
   "execution_count": 32,
   "id": "970395ad",
   "metadata": {},
   "outputs": [],
   "source": [
    "data = [[2, 0],[4, 0],[6, 0],[8, 1],[10, 1],[12, 1],[14, 1]]\n",
    "x_data = [x_row[0] for x_row in data]\n",
    "y_data = [y_row[1] for y_row in data]"
   ]
  },
  {
   "cell_type": "code",
   "execution_count": 33,
   "id": "99e256ee",
   "metadata": {},
   "outputs": [],
   "source": [
    "# a, b값을 임의로 정한다.\n",
    "a = tf.Variable(tf.compat.v1.random_normal([1], dtype=tf.float64, seed=0))\n",
    "b = tf.Variable(tf.compat.v1.random_normal([1], dtype=tf.float64, seed=0))"
   ]
  },
  {
   "cell_type": "code",
   "execution_count": 38,
   "id": "e149852b",
   "metadata": {},
   "outputs": [],
   "source": [
    "# 시그모이드 함수의 방정식을 세운다.\n",
    "y = 1/(1+np.e**(a*x_data+b))\n",
    "\n",
    "# loss를 구하는 함수\n",
    "loss = -tf.compat.v1.reduce_mean(np.array(y_data) * tf.compat.v1.log(y) + (1-np.array(y_data)) * tf.compat.v1.log(1-y))"
   ]
  },
  {
   "cell_type": "code",
   "execution_count": 39,
   "id": "d23e180f",
   "metadata": {},
   "outputs": [],
   "source": [
    "# 학습률 값\n",
    "learning_rate = 0.5"
   ]
  },
  {
   "cell_type": "code",
   "execution_count": 40,
   "id": "2e14413b",
   "metadata": {},
   "outputs": [],
   "source": [
    "# loss를 최소로 하는 값 찾기\n",
    "gradient_descent = tf.compat.v1.train.GradientDescentOptimizer(learning_rate).minimize(loss)"
   ]
  },
  {
   "cell_type": "code",
   "execution_count": 43,
   "id": "f040083a",
   "metadata": {
    "scrolled": false
   },
   "outputs": [
    {
     "name": "stdout",
     "output_type": "stream",
     "text": [
      "Epoch: 0, loss=1.2676, 기울기 a=0.1849, y 절편=-0.4334\n",
      "Epoch: 1000, loss=0.0557, 기울기 a=-1.6009, y 절편=11.0209\n",
      "Epoch: 2000, loss=0.0361, 기울기 a=-2.0366, y 절편=14.0909\n",
      "Epoch: 3000, loss=0.0269, 기울기 a=-2.3380, y 절편=16.2087\n",
      "Epoch: 4000, loss=0.0214, 기울기 a=-2.5708, y 절편=17.8417\n",
      "Epoch: 5000, loss=0.0178, 기울기 a=-2.7607, y 절편=19.1735\n",
      "Epoch: 6000, loss=0.0152, 기울기 a=-2.9211, y 절편=20.2982\n",
      "Epoch: 7000, loss=0.0133, 기울기 a=-3.0600, y 절편=21.2715\n",
      "Epoch: 8000, loss=0.0118, 기울기 a=-3.1824, y 절편=22.1292\n",
      "Epoch: 9000, loss=0.0106, 기울기 a=-3.2918, y 절편=22.8958\n",
      "Epoch: 10000, loss=0.0096, 기울기 a=-3.3906, y 절편=23.5885\n",
      "Epoch: 11000, loss=0.0088, 기울기 a=-3.4808, y 절편=24.2203\n",
      "Epoch: 12000, loss=0.0081, 기울기 a=-3.5637, y 절편=24.8010\n",
      "Epoch: 13000, loss=0.0075, 기울기 a=-3.6404, y 절편=25.3382\n",
      "Epoch: 14000, loss=0.0070, 기울기 a=-3.7118, y 절편=25.8378\n",
      "Epoch: 15000, loss=0.0065, 기울기 a=-3.7784, y 절편=26.3048\n",
      "Epoch: 16000, loss=0.0061, 기울기 a=-3.8410, y 절편=26.7431\n",
      "Epoch: 17000, loss=0.0058, 기울기 a=-3.9000, y 절편=27.1560\n",
      "Epoch: 18000, loss=0.0055, 기울기 a=-3.9557, y 절편=27.5463\n",
      "Epoch: 19000, loss=0.0052, 기울기 a=-4.0086, y 절편=27.9163\n",
      "Epoch: 20000, loss=0.0049, 기울기 a=-4.0588, y 절편=28.2681\n",
      "Epoch: 21000, loss=0.0047, 기울기 a=-4.1067, y 절편=28.6032\n",
      "Epoch: 22000, loss=0.0045, 기울기 a=-4.1524, y 절편=28.9233\n",
      "Epoch: 23000, loss=0.0043, 기울기 a=-4.1961, y 절편=29.2295\n",
      "Epoch: 24000, loss=0.0041, 기울기 a=-4.2380, y 절편=29.5231\n",
      "Epoch: 25000, loss=0.0040, 기울기 a=-4.2783, y 절편=29.8051\n",
      "Epoch: 26000, loss=0.0038, 기울기 a=-4.3170, y 절편=30.0762\n",
      "Epoch: 27000, loss=0.0037, 기울기 a=-4.3543, y 절편=30.3373\n",
      "Epoch: 28000, loss=0.0036, 기울기 a=-4.3903, y 절편=30.5892\n",
      "Epoch: 29000, loss=0.0034, 기울기 a=-4.4250, y 절편=30.8324\n",
      "Epoch: 30000, loss=0.0033, 기울기 a=-4.4586, y 절편=31.0676\n",
      "Epoch: 31000, loss=0.0032, 기울기 a=-4.4911, y 절편=31.2951\n",
      "Epoch: 32000, loss=0.0031, 기울기 a=-4.5226, y 절편=31.5156\n",
      "Epoch: 33000, loss=0.0030, 기울기 a=-4.5531, y 절편=31.7294\n",
      "Epoch: 34000, loss=0.0029, 기울기 a=-4.5828, y 절편=31.9370\n",
      "Epoch: 35000, loss=0.0029, 기울기 a=-4.6116, y 절편=32.1386\n",
      "Epoch: 36000, loss=0.0028, 기울기 a=-4.6396, y 절편=32.3346\n",
      "Epoch: 37000, loss=0.0027, 기울기 a=-4.6668, y 절편=32.5253\n",
      "Epoch: 38000, loss=0.0026, 기울기 a=-4.6933, y 절편=32.7111\n",
      "Epoch: 39000, loss=0.0026, 기울기 a=-4.7192, y 절편=32.8920\n",
      "Epoch: 40000, loss=0.0025, 기울기 a=-4.7444, y 절편=33.0685\n",
      "Epoch: 41000, loss=0.0024, 기울기 a=-4.7690, y 절편=33.2406\n",
      "Epoch: 42000, loss=0.0024, 기울기 a=-4.7930, y 절편=33.4086\n",
      "Epoch: 43000, loss=0.0023, 기울기 a=-4.8164, y 절편=33.5728\n",
      "Epoch: 44000, loss=0.0023, 기울기 a=-4.8393, y 절편=33.7332\n",
      "Epoch: 45000, loss=0.0022, 기울기 a=-4.8617, y 절편=33.8900\n",
      "Epoch: 46000, loss=0.0022, 기울기 a=-4.8836, y 절편=34.0434\n",
      "Epoch: 47000, loss=0.0021, 기울기 a=-4.9051, y 절편=34.1936\n",
      "Epoch: 48000, loss=0.0021, 기울기 a=-4.9261, y 절편=34.3406\n",
      "Epoch: 49000, loss=0.0020, 기울기 a=-4.9467, y 절편=34.4846\n",
      "Epoch: 50000, loss=0.0020, 기울기 a=-4.9668, y 절편=34.6258\n",
      "Epoch: 51000, loss=0.0020, 기울기 a=-4.9866, y 절편=34.7641\n",
      "Epoch: 52000, loss=0.0019, 기울기 a=-5.0060, y 절편=34.8998\n",
      "Epoch: 53000, loss=0.0019, 기울기 a=-5.0250, y 절편=35.0330\n",
      "Epoch: 54000, loss=0.0019, 기울기 a=-5.0436, y 절편=35.1636\n",
      "Epoch: 55000, loss=0.0018, 기울기 a=-5.0620, y 절편=35.2919\n",
      "Epoch: 56000, loss=0.0018, 기울기 a=-5.0800, y 절편=35.4179\n",
      "Epoch: 57000, loss=0.0018, 기울기 a=-5.0976, y 절편=35.5417\n",
      "Epoch: 58000, loss=0.0017, 기울기 a=-5.1150, y 절편=35.6633\n",
      "Epoch: 59000, loss=0.0017, 기울기 a=-5.1321, y 절편=35.7829\n"
     ]
    }
   ],
   "source": [
    "# 학습\n",
    "with tf.compat.v1.Session() as sess:\n",
    "    # 변수 초기화\n",
    "    sess.run(tf.compat.v1.global_variables_initializer())\n",
    "    \n",
    "    for i in range(60000):\n",
    "        sess.run(gradient_descent)\n",
    "        if i % 1000 == 0:\n",
    "            print(\"Epoch: %.f, loss=%.4f, 기울기 a=%.4f, y 절편=%.4f\" % (i, sess.run(loss), sess.run(a), sess.run(b)))"
   ]
  }
 ],
 "metadata": {
  "kernelspec": {
   "display_name": "Python 3 (ipykernel)",
   "language": "python",
   "name": "python3"
  },
  "language_info": {
   "codemirror_mode": {
    "name": "ipython",
    "version": 3
   },
   "file_extension": ".py",
   "mimetype": "text/x-python",
   "name": "python",
   "nbconvert_exporter": "python",
   "pygments_lexer": "ipython3",
   "version": "3.8.10"
  }
 },
 "nbformat": 4,
 "nbformat_minor": 5
}
