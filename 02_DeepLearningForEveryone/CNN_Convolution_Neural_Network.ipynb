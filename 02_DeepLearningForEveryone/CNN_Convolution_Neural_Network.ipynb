{
 "cells": [
  {
   "cell_type": "markdown",
   "id": "9bbf3624",
   "metadata": {},
   "source": [
    "# 손글씨 인식 딥러닝 모델"
   ]
  },
  {
   "cell_type": "code",
   "execution_count": 1,
   "id": "b0e641e6",
   "metadata": {
    "scrolled": false
   },
   "outputs": [
    {
     "name": "stderr",
     "output_type": "stream",
     "text": [
      "2021-12-16 18:06:02.245299: W tensorflow/stream_executor/platform/default/dso_loader.cc:64] Could not load dynamic library 'libcudart.so.11.0'; dlerror: libcudart.so.11.0: cannot open shared object file: No such file or directory\n",
      "2021-12-16 18:06:02.245332: I tensorflow/stream_executor/cuda/cudart_stub.cc:29] Ignore above cudart dlerror if you do not have a GPU set up on your machine.\n",
      "/usr/lib/python3/dist-packages/requests/__init__.py:89: RequestsDependencyWarning: urllib3 (1.26.7) or chardet (3.0.4) doesn't match a supported version!\n",
      "  warnings.warn(\"urllib3 ({}) or chardet ({}) doesn't match a supported \"\n",
      "2021-12-16 18:06:05.543231: W tensorflow/stream_executor/platform/default/dso_loader.cc:64] Could not load dynamic library 'libcuda.so.1'; dlerror: libcuda.so.1: cannot open shared object file: No such file or directory\n",
      "2021-12-16 18:06:05.543265: W tensorflow/stream_executor/cuda/cuda_driver.cc:269] failed call to cuInit: UNKNOWN ERROR (303)\n",
      "2021-12-16 18:06:05.543297: I tensorflow/stream_executor/cuda/cuda_diagnostics.cc:156] kernel driver does not appear to be running on this host (ys-ThinkPad-T430): /proc/driver/nvidia/version does not exist\n"
     ]
    },
    {
     "name": "stdout",
     "output_type": "stream",
     "text": [
      "Epoch 1/100\n",
      "30/30 [==============================] - 3s 94ms/step - loss: 0.7932 - accuracy: 0.7959 - val_loss: 0.3345 - val_accuracy: 0.9070\n",
      "Epoch 2/100\n",
      "30/30 [==============================] - 3s 91ms/step - loss: 0.2941 - accuracy: 0.9165 - val_loss: 0.2525 - val_accuracy: 0.9294\n",
      "Epoch 3/100\n",
      "30/30 [==============================] - 3s 89ms/step - loss: 0.2316 - accuracy: 0.9356 - val_loss: 0.2073 - val_accuracy: 0.9424\n",
      "Epoch 4/100\n",
      "30/30 [==============================] - 3s 107ms/step - loss: 0.1935 - accuracy: 0.9459 - val_loss: 0.1799 - val_accuracy: 0.9493\n",
      "Epoch 5/100\n",
      "30/30 [==============================] - 3s 96ms/step - loss: 0.1657 - accuracy: 0.9539 - val_loss: 0.1615 - val_accuracy: 0.9538\n",
      "Epoch 6/100\n",
      "30/30 [==============================] - 3s 99ms/step - loss: 0.1433 - accuracy: 0.9600 - val_loss: 0.1426 - val_accuracy: 0.9594\n",
      "Epoch 7/100\n",
      "30/30 [==============================] - 3s 90ms/step - loss: 0.1259 - accuracy: 0.9651 - val_loss: 0.1313 - val_accuracy: 0.9613\n",
      "Epoch 8/100\n",
      "30/30 [==============================] - 3s 99ms/step - loss: 0.1110 - accuracy: 0.9695 - val_loss: 0.1178 - val_accuracy: 0.9667\n",
      "Epoch 9/100\n",
      "30/30 [==============================] - 3s 90ms/step - loss: 0.0992 - accuracy: 0.9729 - val_loss: 0.1092 - val_accuracy: 0.9690\n",
      "Epoch 10/100\n",
      "30/30 [==============================] - 3s 93ms/step - loss: 0.0886 - accuracy: 0.9759 - val_loss: 0.1024 - val_accuracy: 0.9706\n",
      "Epoch 11/100\n",
      "30/30 [==============================] - 3s 94ms/step - loss: 0.0796 - accuracy: 0.9784 - val_loss: 0.0954 - val_accuracy: 0.9705\n",
      "Epoch 12/100\n",
      "30/30 [==============================] - 3s 111ms/step - loss: 0.0720 - accuracy: 0.9807 - val_loss: 0.0919 - val_accuracy: 0.9737\n",
      "Epoch 13/100\n",
      "30/30 [==============================] - 3s 115ms/step - loss: 0.0653 - accuracy: 0.9825 - val_loss: 0.0887 - val_accuracy: 0.9743\n",
      "Epoch 14/100\n",
      "30/30 [==============================] - 3s 91ms/step - loss: 0.0598 - accuracy: 0.9839 - val_loss: 0.0840 - val_accuracy: 0.9737\n",
      "Epoch 15/100\n",
      "30/30 [==============================] - 3s 96ms/step - loss: 0.0548 - accuracy: 0.9859 - val_loss: 0.0814 - val_accuracy: 0.9755\n",
      "Epoch 16/100\n",
      "30/30 [==============================] - 2s 83ms/step - loss: 0.0500 - accuracy: 0.9875 - val_loss: 0.0778 - val_accuracy: 0.9763\n",
      "Epoch 17/100\n",
      "30/30 [==============================] - 2s 83ms/step - loss: 0.0459 - accuracy: 0.9887 - val_loss: 0.0769 - val_accuracy: 0.9774\n",
      "Epoch 18/100\n",
      "30/30 [==============================] - 3s 106ms/step - loss: 0.0432 - accuracy: 0.9892 - val_loss: 0.0755 - val_accuracy: 0.9772\n",
      "Epoch 19/100\n",
      "30/30 [==============================] - 3s 99ms/step - loss: 0.0400 - accuracy: 0.9904 - val_loss: 0.0719 - val_accuracy: 0.9778\n",
      "Epoch 20/100\n",
      "30/30 [==============================] - 3s 94ms/step - loss: 0.0366 - accuracy: 0.9910 - val_loss: 0.0737 - val_accuracy: 0.9771\n",
      "Epoch 21/100\n",
      "30/30 [==============================] - 3s 91ms/step - loss: 0.0342 - accuracy: 0.9920 - val_loss: 0.0706 - val_accuracy: 0.9785\n",
      "Epoch 22/100\n",
      "30/30 [==============================] - 3s 92ms/step - loss: 0.0313 - accuracy: 0.9926 - val_loss: 0.0695 - val_accuracy: 0.9790\n",
      "Epoch 23/100\n",
      "30/30 [==============================] - 3s 87ms/step - loss: 0.0284 - accuracy: 0.9941 - val_loss: 0.0675 - val_accuracy: 0.9796\n",
      "Epoch 24/100\n",
      "30/30 [==============================] - 3s 87ms/step - loss: 0.0265 - accuracy: 0.9944 - val_loss: 0.0681 - val_accuracy: 0.9790\n",
      "Epoch 25/100\n",
      "30/30 [==============================] - 3s 86ms/step - loss: 0.0246 - accuracy: 0.9952 - val_loss: 0.0659 - val_accuracy: 0.9800\n",
      "Epoch 26/100\n",
      "30/30 [==============================] - 3s 87ms/step - loss: 0.0230 - accuracy: 0.9957 - val_loss: 0.0650 - val_accuracy: 0.9797\n",
      "Epoch 27/100\n",
      "30/30 [==============================] - 3s 87ms/step - loss: 0.0212 - accuracy: 0.9963 - val_loss: 0.0653 - val_accuracy: 0.9802\n",
      "Epoch 28/100\n",
      "30/30 [==============================] - 3s 87ms/step - loss: 0.0197 - accuracy: 0.9968 - val_loss: 0.0655 - val_accuracy: 0.9805\n",
      "Epoch 29/100\n",
      "30/30 [==============================] - 3s 87ms/step - loss: 0.0184 - accuracy: 0.9970 - val_loss: 0.0646 - val_accuracy: 0.9802\n",
      "Epoch 30/100\n",
      "30/30 [==============================] - 3s 86ms/step - loss: 0.0172 - accuracy: 0.9975 - val_loss: 0.0643 - val_accuracy: 0.9812\n",
      "Epoch 31/100\n",
      "30/30 [==============================] - 3s 86ms/step - loss: 0.0161 - accuracy: 0.9976 - val_loss: 0.0649 - val_accuracy: 0.9805\n",
      "Epoch 32/100\n",
      "30/30 [==============================] - 3s 88ms/step - loss: 0.0152 - accuracy: 0.9980 - val_loss: 0.0643 - val_accuracy: 0.9807\n",
      "Epoch 33/100\n",
      "30/30 [==============================] - 3s 88ms/step - loss: 0.0141 - accuracy: 0.9983 - val_loss: 0.0656 - val_accuracy: 0.9807\n",
      "Epoch 34/100\n",
      "30/30 [==============================] - 3s 88ms/step - loss: 0.0131 - accuracy: 0.9985 - val_loss: 0.0646 - val_accuracy: 0.9812\n",
      "Epoch 35/100\n",
      "30/30 [==============================] - 3s 87ms/step - loss: 0.0122 - accuracy: 0.9988 - val_loss: 0.0643 - val_accuracy: 0.9814\n",
      "Epoch 36/100\n",
      "30/30 [==============================] - 3s 87ms/step - loss: 0.0115 - accuracy: 0.9988 - val_loss: 0.0647 - val_accuracy: 0.9812\n",
      "Epoch 37/100\n",
      "30/30 [==============================] - 3s 88ms/step - loss: 0.0108 - accuracy: 0.9992 - val_loss: 0.0638 - val_accuracy: 0.9808\n",
      "Epoch 38/100\n",
      "30/30 [==============================] - 3s 88ms/step - loss: 0.0100 - accuracy: 0.9992 - val_loss: 0.0640 - val_accuracy: 0.9813\n",
      "Epoch 39/100\n",
      "30/30 [==============================] - 3s 87ms/step - loss: 0.0095 - accuracy: 0.9992 - val_loss: 0.0638 - val_accuracy: 0.9815\n",
      "Epoch 40/100\n",
      "30/30 [==============================] - 3s 87ms/step - loss: 0.0088 - accuracy: 0.9993 - val_loss: 0.0643 - val_accuracy: 0.9816\n",
      "Epoch 41/100\n",
      "30/30 [==============================] - 3s 99ms/step - loss: 0.0083 - accuracy: 0.9995 - val_loss: 0.0634 - val_accuracy: 0.9820\n",
      "Epoch 42/100\n",
      "30/30 [==============================] - 3s 106ms/step - loss: 0.0079 - accuracy: 0.9995 - val_loss: 0.0641 - val_accuracy: 0.9815\n",
      "Epoch 43/100\n",
      "30/30 [==============================] - 3s 90ms/step - loss: 0.0075 - accuracy: 0.9995 - val_loss: 0.0639 - val_accuracy: 0.9816\n",
      "Epoch 44/100\n",
      "30/30 [==============================] - 3s 89ms/step - loss: 0.0069 - accuracy: 0.9995 - val_loss: 0.0645 - val_accuracy: 0.9817\n",
      "Epoch 45/100\n",
      "30/30 [==============================] - 3s 90ms/step - loss: 0.0065 - accuracy: 0.9997 - val_loss: 0.0646 - val_accuracy: 0.9815\n",
      "Epoch 46/100\n",
      "30/30 [==============================] - 3s 90ms/step - loss: 0.0062 - accuracy: 0.9997 - val_loss: 0.0642 - val_accuracy: 0.9817\n",
      "Epoch 47/100\n",
      "30/30 [==============================] - 3s 89ms/step - loss: 0.0058 - accuracy: 0.9998 - val_loss: 0.0644 - val_accuracy: 0.9820\n",
      "Epoch 48/100\n",
      "30/30 [==============================] - 3s 90ms/step - loss: 0.0055 - accuracy: 0.9997 - val_loss: 0.0643 - val_accuracy: 0.9815\n",
      "Epoch 49/100\n",
      "30/30 [==============================] - 3s 91ms/step - loss: 0.0051 - accuracy: 0.9999 - val_loss: 0.0652 - val_accuracy: 0.9814\n",
      "Epoch 50/100\n",
      "30/30 [==============================] - 3s 90ms/step - loss: 0.0050 - accuracy: 0.9998 - val_loss: 0.0651 - val_accuracy: 0.9815\n",
      "Epoch 51/100\n",
      "30/30 [==============================] - 3s 90ms/step - loss: 0.0047 - accuracy: 0.9998 - val_loss: 0.0646 - val_accuracy: 0.9819\n",
      "313/313 [==============================] - 1s 4ms/step - loss: 0.0646 - accuracy: 0.9819\n",
      "\n",
      " Test Accuracy : 0.9819\n"
     ]
    },
    {
     "data": {
      "image/png": "[encoded data removed]",
      "text/plain": [
       "<Figure size 432x288 with 1 Axes>"
      ]
     },
     "metadata": {
      "needs_background": "light"
     },
     "output_type": "display_data"
    }
   ],
   "source": [
    "from keras.datasets import mnist\n",
    "from keras.utils import np_utils\n",
    "from keras.models import Sequential\n",
    "from keras.layers import Dense\n",
    "from keras.callbacks import ModelCheckpoint, EarlyStopping\n",
    "\n",
    "import matplotlib.pyplot as plt\n",
    "import numpy\n",
    "import os\n",
    "import tensorflow as tf\n",
    "\n",
    "# seed 값 설정합니다.\n",
    "seed = 0\n",
    "numpy.random.seed(seed)\n",
    "tf.compat.v1.set_random_seed(seed)\n",
    "\n",
    "# MNIST 데이터 불러옵니다.\n",
    "(X_train, Y_train), (X_test, Y_test) = mnist.load_data()\n",
    "\n",
    "X_train = X_train.reshape(X_train.shape[0], 784).astype('float32')/255\n",
    "X_test = X_test.reshape(X_test.shape[0], 784).astype('float32')/255\n",
    "\n",
    "Y_train = np_utils.to_categorical(Y_train, 10)\n",
    "Y_test = np_utils.to_categorical(Y_test, 10)\n",
    "\n",
    "# 모델 프레임 설정합니다.\n",
    "model = Sequential()\n",
    "model.add(Dense(512, input_dim=784, activation='relu'))\n",
    "model.add(Dense(10, activation='softmax'))\n",
    "\n",
    "# 모델 실행 환경 설정합니다.\n",
    "model.compile(loss='categorical_crossentropy',\n",
    "             optimizer='adam',\n",
    "             metrics=['accuracy'])\n",
    "\n",
    "# # 모델 최적화 설정합니다.\n",
    "# MODEL_DIR = './model/handwrite_model/'\n",
    "# if not os.path.exists(MODEL_DIR):\n",
    "#     os.mkdir(MODEL_DIR)\n",
    "    \n",
    "# modelpath = './model/{epoch:02d}.hdf5'\n",
    "# checkpointer = ModelCheckpoint(filepath=modelpath, monitor='val_loss', verbose=1, save_best_only=True)\n",
    "early_stopping_callback = EarlyStopping(monitor='val_loss', patience=10)\n",
    "\n",
    "# 모델을 실행합니다.\n",
    "# history = model.fit(X_train, Y_train, validation_data=(X_test, Y_test), epochs=30, batch_size=2000, verbose=0, callbacks=[early_stopping_callback])\n",
    "\n",
    "history = model.fit(X_train, Y_train, validation_data=(X_test, Y_test), epochs=100, batch_size=2000, verbose=1, callbacks=[early_stopping_callback])\n",
    "# 테스트 정확도를 출력합니다.\n",
    "print(\"\\n Test Accuracy : %.4f\" %(model.evaluate(X_test, Y_test)[1]))\n",
    "\n",
    "# 테스트셋의 오차\n",
    "y_vloss = history.history['val_loss']\n",
    "\n",
    "# 학습셋의 오차\n",
    "y_loss = history.history['loss']\n",
    "\n",
    "# 그래프로 표현합니다.\n",
    "x_len = numpy.arange(len(y_loss))\n",
    "plt.plot(x_len, y_vloss, marker='.', c=\"red\", label=\"Testset_loss\")\n",
    "plt.plot(x_len, y_loss, marker='.', c=\"blue\", label=\"Trainset_loss\")\n",
    "\n",
    "# 그래프에 그리드를 주고 레이블을 표시합니다.\n",
    "plt.legend(loc='best')\n",
    "plt.grid()\n",
    "plt.xlabel('epoch')\n",
    "plt.ylabel('loss')\n",
    "plt.show()\n"
   ]
  },
  {
   "cell_type": "markdown",
   "id": "c8611309",
   "metadata": {},
   "source": [
    "# CNN(Convolution Neural Network)"
   ]
  },
  {
   "cell_type": "code",
   "execution_count": 18,
   "id": "1b7a9021",
   "metadata": {},
   "outputs": [
    {
     "name": "stdout",
     "output_type": "stream",
     "text": [
      "\n",
      "Epoch 00001: val_loss improved from inf to 0.05679, saving model to ./model/01-0.0568.hdf5\n",
      "\n",
      "Epoch 00002: val_loss improved from 0.05679 to 0.04342, saving model to ./model/02-0.0434.hdf5\n",
      "\n",
      "Epoch 00003: val_loss improved from 0.04342 to 0.03654, saving model to ./model/03-0.0365.hdf5\n",
      "\n",
      "Epoch 00004: val_loss improved from 0.03654 to 0.03048, saving model to ./model/04-0.0305.hdf5\n",
      "\n",
      "Epoch 00005: val_loss improved from 0.03048 to 0.02825, saving model to ./model/05-0.0282.hdf5\n",
      "\n",
      "Epoch 00006: val_loss did not improve from 0.02825\n",
      "\n",
      "Epoch 00007: val_loss improved from 0.02825 to 0.02513, saving model to ./model/07-0.0251.hdf5\n",
      "\n",
      "Epoch 00008: val_loss did not improve from 0.02513\n",
      "\n",
      "Epoch 00009: val_loss did not improve from 0.02513\n",
      "\n",
      "Epoch 00010: val_loss did not improve from 0.02513\n",
      "\n",
      "Epoch 00011: val_loss did not improve from 0.02513\n",
      "\n",
      "Epoch 00012: val_loss did not improve from 0.02513\n",
      "\n",
      "Epoch 00013: val_loss did not improve from 0.02513\n",
      "\n",
      "Epoch 00014: val_loss did not improve from 0.02513\n",
      "\n",
      "Epoch 00015: val_loss did not improve from 0.02513\n",
      "\n",
      "Epoch 00016: val_loss did not improve from 0.02513\n",
      "\n",
      "Epoch 00017: val_loss did not improve from 0.02513\n",
      "313/313 [==============================] - 7s 20ms/step - loss: 0.0264 - accuracy: 0.9924\n",
      "\n",
      " Test Accuracy : 0.9924\n"
     ]
    },
    {
     "data": {
      "image/png": "[encoded data removed]",
      "text/plain": [
       "<Figure size 432x288 with 1 Axes>"
      ]
     },
     "metadata": {
      "needs_background": "light"
     },
     "output_type": "display_data"
    }
   ],
   "source": [
    "from keras.datasets import mnist\n",
    "from keras.utils import np_utils\n",
    "from keras.models import Sequential\n",
    "from keras.layers import Dense, Dropout, Flatten, Conv2D, MaxPooling2D\n",
    "from keras.callbacks import ModelCheckpoint, EarlyStopping\n",
    "\n",
    "import matplotlib.pyplot as plt\n",
    "import numpy\n",
    "import os\n",
    "import tensorflow as tf\n",
    "\n",
    "# seed 값 설정합니다.\n",
    "seed = 0\n",
    "numpy.random.seed(seed)\n",
    "tf.compat.v1.set_random_seed(seed)\n",
    "\n",
    "# MNIST 데이터 불러옵니다.\n",
    "(X_train, Y_train), (X_test, Y_test) = mnist.load_data()\n",
    "\n",
    "X_train = X_train.reshape(X_train.shape[0], 28, 28, 1).astype('float32')/255\n",
    "X_test = X_test.reshape(X_test.shape[0], 28, 28, 1).astype('float32')/255\n",
    "\n",
    "Y_train = np_utils.to_categorical(Y_train, 10)\n",
    "Y_test = np_utils.to_categorical(Y_test, 10)\n",
    "\n",
    "\n",
    "# 모델 프레임 설정합니다.\n",
    "# 컨볼루션 신경망 설정합니다.\n",
    "model = Sequential()\n",
    "model.add(Conv2D(32, kernel_size=(3,3), input_shape=(28,28,1), activation='relu'))\n",
    "model.add(Conv2D(64, (3,3), activation='relu'))\n",
    "model.add(MaxPooling2D(pool_size=2))\n",
    "model.add(Dropout(0.25))\n",
    "model.add(Flatten())\n",
    "model.add(Dense(128, activation='relu'))\n",
    "model.add(Dropout(0.5))\n",
    "model.add(Dense(10, activation='softmax'))\n",
    "\n",
    "\n",
    "# 모델 실행 환경 설정합니다.\n",
    "model.compile(loss='categorical_crossentropy',\n",
    "             optimizer='adam',\n",
    "             metrics=['accuracy'])\n",
    "\n",
    "\n",
    "# 모델 최적화 설정합니다.\n",
    "MODEL_DIR = './model/handwrite_model/'\n",
    "if not os.path.exists(MODEL_DIR):\n",
    "    os.mkdir(MODEL_DIR)\n",
    "    \n",
    "modelpath = './model/{epoch:02d}-{val_loss:.4f}.hdf5'\n",
    "checkpointer = ModelCheckpoint(filepath=modelpath, monitor='val_loss', verbose=1, save_best_only=True)\n",
    "early_stopping_callback = EarlyStopping(monitor='val_loss', patience=10)\n",
    "\n",
    "# 모델을 실행합니다.\n",
    "history = model.fit(X_train, Y_train, validation_data=(X_test, Y_test), epochs=30, batch_size=200, verbose=0, callbacks=[early_stopping_callback, checkpointer])\n",
    "\n",
    "# 테스트 정확도를 출력합니다.\n",
    "print(\"\\n Test Accuracy : %.4f\" %(model.evaluate(X_test, Y_test)[1]))\n",
    "\n",
    "# 테스트셋의 오차\n",
    "y_vloss = history.history['val_loss']\n",
    "\n",
    "# 학습셋의 오차\n",
    "y_loss = history.history['loss']\n",
    "\n",
    "# 그래프로 표현합니다.\n",
    "x_len = numpy.arange(len(y_loss))\n",
    "plt.plot(x_len, y_vloss, marker='.', c=\"red\", label=\"Testset_loss\")\n",
    "plt.plot(x_len, y_loss, marker='.', c=\"blue\", label=\"Trainset_loss\")\n",
    "\n",
    "# 그래프에 그리드를 주고 레이블을 표시합니다.\n",
    "plt.legend(loc='best')\n",
    "plt.grid()\n",
    "plt.xlabel('epoch')\n",
    "plt.ylabel('loss')\n",
    "plt.show()\n"
   ]
  },
  {
   "cell_type": "code",
   "execution_count": 4,
   "id": "2084b088",
   "metadata": {},
   "outputs": [
    {
     "name": "stdout",
     "output_type": "stream",
     "text": [
      "학습셋 이미지 수 : (60000, 28, 28) 개\n",
      "테스트셋 이 수 : (10000, 28, 28) 개\n"
     ]
    }
   ],
   "source": [
    "from keras.datasets import mnist\n",
    "(X_train, Y_class_train),(X_test, Y_class_test)=mnist.load_data()\n",
    "\n",
    "print(\"학습셋 이미지 수 : {0} 개\".format(X_train.shape))\n",
    "print(\"테스트셋 이 수 : {0} 개\".format(X_test.shape))"
   ]
  },
  {
   "cell_type": "code",
   "execution_count": 7,
   "id": "1f6b2416",
   "metadata": {
    "scrolled": true
   },
   "outputs": [
    {
     "data": {
      "image/png": "[encoded data removed]",
      "text/plain": [
       "<Figure size 432x288 with 1 Axes>"
      ]
     },
     "metadata": {
      "needs_background": "light"
     },
     "output_type": "display_data"
    }
   ],
   "source": [
    "import matplotlib.pyplot as plt\n",
    "plt.imshow(X_train[13], cmap='Greys')\n",
    "plt.show()"
   ]
  },
  {
   "cell_type": "code",
   "execution_count": 27,
   "id": "4caa127c",
   "metadata": {},
   "outputs": [
    {
     "name": "stdout",
     "output_type": "stream",
     "text": [
      "0\t0\t0\t0\t0\t0\t0\t0\t0\t0\t0\t0\t0\t0\t0\t0\t0\t0\t0\t0\t0\t0\t0\t0\t0\t0\t0\t0\t\n",
      "0\t0\t0\t0\t0\t0\t0\t0\t0\t0\t0\t0\t0\t0\t0\t0\t0\t0\t0\t0\t0\t0\t0\t0\t0\t0\t0\t0\t\n",
      "0\t0\t0\t0\t0\t0\t0\t0\t0\t0\t0\t0\t0\t0\t0\t0\t0\t0\t0\t0\t0\t0\t0\t0\t0\t0\t0\t0\t\n",
      "0\t0\t0\t0\t0\t0\t0\t0\t0\t0\t0\t0\t0\t0\t0\t0\t0\t0\t0\t0\t0\t0\t0\t0\t0\t0\t0\t0\t\n",
      "0\t0\t0\t0\t0\t0\t0\t0\t0\t0\t0\t0\t0\t0\t0\t0\t0\t0\t0\t0\t0\t0\t0\t0\t0\t0\t0\t0\t\n",
      "0\t0\t0\t0\t0\t0\t0\t0\t0\t0\t0\t0\t3\t18\t18\t18\t126\t136\t175\t26\t166\t255\t247\t127\t0\t0\t0\t0\t\n",
      "0\t0\t0\t0\t0\t0\t0\t0\t30\t36\t94\t154\t170\t253\t253\t253\t253\t253\t225\t172\t253\t242\t195\t64\t0\t0\t0\t0\t\n",
      "0\t0\t0\t0\t0\t0\t0\t49\t238\t253\t253\t253\t253\t253\t253\t253\t253\t251\t93\t82\t82\t56\t39\t0\t0\t0\t0\t0\t\n",
      "0\t0\t0\t0\t0\t0\t0\t18\t219\t253\t253\t253\t253\t253\t198\t182\t247\t241\t0\t0\t0\t0\t0\t0\t0\t0\t0\t0\t\n",
      "0\t0\t0\t0\t0\t0\t0\t0\t80\t156\t107\t253\t253\t205\t11\t0\t43\t154\t0\t0\t0\t0\t0\t0\t0\t0\t0\t0\t\n",
      "0\t0\t0\t0\t0\t0\t0\t0\t0\t14\t1\t154\t253\t90\t0\t0\t0\t0\t0\t0\t0\t0\t0\t0\t0\t0\t0\t0\t\n",
      "0\t0\t0\t0\t0\t0\t0\t0\t0\t0\t0\t139\t253\t190\t2\t0\t0\t0\t0\t0\t0\t0\t0\t0\t0\t0\t0\t0\t\n",
      "0\t0\t0\t0\t0\t0\t0\t0\t0\t0\t0\t11\t190\t253\t70\t0\t0\t0\t0\t0\t0\t0\t0\t0\t0\t0\t0\t0\t\n",
      "0\t0\t0\t0\t0\t0\t0\t0\t0\t0\t0\t0\t35\t241\t225\t160\t108\t1\t0\t0\t0\t0\t0\t0\t0\t0\t0\t0\t\n",
      "0\t0\t0\t0\t0\t0\t0\t0\t0\t0\t0\t0\t0\t81\t240\t253\t253\t119\t25\t0\t0\t0\t0\t0\t0\t0\t0\t0\t\n",
      "0\t0\t0\t0\t0\t0\t0\t0\t0\t0\t0\t0\t0\t0\t45\t186\t253\t253\t150\t27\t0\t0\t0\t0\t0\t0\t0\t0\t\n",
      "0\t0\t0\t0\t0\t0\t0\t0\t0\t0\t0\t0\t0\t0\t0\t16\t93\t252\t253\t187\t0\t0\t0\t0\t0\t0\t0\t0\t\n",
      "0\t0\t0\t0\t0\t0\t0\t0\t0\t0\t0\t0\t0\t0\t0\t0\t0\t249\t253\t249\t64\t0\t0\t0\t0\t0\t0\t0\t\n",
      "0\t0\t0\t0\t0\t0\t0\t0\t0\t0\t0\t0\t0\t0\t46\t130\t183\t253\t253\t207\t2\t0\t0\t0\t0\t0\t0\t0\t\n",
      "0\t0\t0\t0\t0\t0\t0\t0\t0\t0\t0\t0\t39\t148\t229\t253\t253\t253\t250\t182\t0\t0\t0\t0\t0\t0\t0\t0\t\n",
      "0\t0\t0\t0\t0\t0\t0\t0\t0\t0\t24\t114\t221\t253\t253\t253\t253\t201\t78\t0\t0\t0\t0\t0\t0\t0\t0\t0\t\n",
      "0\t0\t0\t0\t0\t0\t0\t0\t23\t66\t213\t253\t253\t253\t253\t198\t81\t2\t0\t0\t0\t0\t0\t0\t0\t0\t0\t0\t\n",
      "0\t0\t0\t0\t0\t0\t18\t171\t219\t253\t253\t253\t253\t195\t80\t9\t0\t0\t0\t0\t0\t0\t0\t0\t0\t0\t0\t0\t\n",
      "0\t0\t0\t0\t55\t172\t226\t253\t253\t253\t253\t244\t133\t11\t0\t0\t0\t0\t0\t0\t0\t0\t0\t0\t0\t0\t0\t0\t\n",
      "0\t0\t0\t0\t136\t253\t253\t253\t212\t135\t132\t16\t0\t0\t0\t0\t0\t0\t0\t0\t0\t0\t0\t0\t0\t0\t0\t0\t\n",
      "0\t0\t0\t0\t0\t0\t0\t0\t0\t0\t0\t0\t0\t0\t0\t0\t0\t0\t0\t0\t0\t0\t0\t0\t0\t0\t0\t0\t\n",
      "0\t0\t0\t0\t0\t0\t0\t0\t0\t0\t0\t0\t0\t0\t0\t0\t0\t0\t0\t0\t0\t0\t0\t0\t0\t0\t0\t0\t\n",
      "0\t0\t0\t0\t0\t0\t0\t0\t0\t0\t0\t0\t0\t0\t0\t0\t0\t0\t0\t0\t0\t0\t0\t0\t0\t0\t0\t0\t\n"
     ]
    }
   ],
   "source": [
    "import sys\n",
    "for x in X_train[0]:\n",
    "    for i in x:\n",
    "        sys.stdout.write('%d\\t' % i)\n",
    "    sys.stdout.write('\\n')"
   ]
  },
  {
   "cell_type": "code",
   "execution_count": 15,
   "id": "3e43d67f",
   "metadata": {
    "scrolled": true
   },
   "outputs": [
    {
     "name": "stdout",
     "output_type": "stream",
     "text": [
      "class : 6\n"
     ]
    }
   ],
   "source": [
    "print(\"class : %d\" % Y_class_train[13])"
   ]
  },
  {
   "cell_type": "code",
   "execution_count": 18,
   "id": "fce9798c",
   "metadata": {
    "scrolled": true
   },
   "outputs": [
    {
     "name": "stdout",
     "output_type": "stream",
     "text": [
      "[0. 0. 0. 0. 0. 0. 1. 0. 0. 0. 0. 0. 0. 0. 0. 0. 0. 0. 0. 0. 0. 0. 0. 0.\n",
      " 0. 0. 0. 0. 0. 0. 0. 0. 0. 0. 0. 0. 0. 0. 0. 0. 0. 0. 0. 0. 0. 0. 0. 0.\n",
      " 0. 0. 0. 0. 0. 0. 0. 0. 0. 0. 0. 0. 0. 0. 0. 0. 0. 0. 0. 0. 0. 0. 0. 0.\n",
      " 0. 0. 0. 0. 0. 0. 0. 0. 0. 0. 0. 0. 0. 0. 0. 0. 0. 0. 0. 0. 0. 0. 0. 0.\n",
      " 0. 0. 0. 0.]\n"
     ]
    }
   ],
   "source": [
    "from keras.utils import np_utils\n",
    "y_train = np_utils.to_categorical(Y_class_train[13], 100 )\n",
    "print(y_train)"
   ]
  },
  {
   "cell_type": "code",
   "execution_count": 25,
   "id": "bfc024d4",
   "metadata": {},
   "outputs": [
    {
     "name": "stdout",
     "output_type": "stream",
     "text": [
      "[[0. 0. 0. ... 0. 0. 0.]\n",
      " [0. 0. 0. ... 0. 0. 0.]\n",
      " [0. 0. 0. ... 0. 0. 0.]\n",
      " ...\n",
      " [0. 0. 0. ... 0. 0. 0.]\n",
      " [0. 0. 0. ... 0. 0. 0.]\n",
      " [0. 0. 0. ... 0. 0. 0.]]\n"
     ]
    }
   ],
   "source": [
    "x_train = X_train.reshape(X_train.shape[0], 784).astype('float64')/255\n",
    "print(x_train)"
   ]
  },
  {
   "cell_type": "code",
   "execution_count": 13,
   "id": "9536c8a3",
   "metadata": {
    "scrolled": false
   },
   "outputs": [
    {
     "name": "stdout",
     "output_type": "stream",
     "text": [
      "Epoch 1/5\n",
      "300/300 [==============================] - 124s 412ms/step - loss: 0.2750 - accuracy: 0.9170 - val_loss: 0.0568 - val_accuracy: 0.9828\n",
      "Epoch 2/5\n",
      "300/300 [==============================] - 125s 416ms/step - loss: 0.0906 - accuracy: 0.9736 - val_loss: 0.0434 - val_accuracy: 0.9854\n",
      "Epoch 3/5\n",
      "300/300 [==============================] - 124s 415ms/step - loss: 0.0684 - accuracy: 0.9793 - val_loss: 0.0365 - val_accuracy: 0.9878\n",
      "Epoch 4/5\n",
      "300/300 [==============================] - 124s 414ms/step - loss: 0.0527 - accuracy: 0.9836 - val_loss: 0.0305 - val_accuracy: 0.9896\n",
      "Epoch 5/5\n",
      "300/300 [==============================] - 124s 415ms/step - loss: 0.0464 - accuracy: 0.9857 - val_loss: 0.0282 - val_accuracy: 0.9910\n",
      "313/313 [==============================] - 7s 22ms/step - loss: 0.0282 - accuracy: 0.9910\n",
      "\n",
      " Test Accuracy : 0.9910\n"
     ]
    },
    {
     "data": {
      "image/png": "[encoded data removed]",
      "text/plain": [
       "<Figure size 432x288 with 1 Axes>"
      ]
     },
     "metadata": {
      "needs_background": "light"
     },
     "output_type": "display_data"
    }
   ],
   "source": [
    "from keras.datasets import mnist\n",
    "from keras.utils import np_utils\n",
    "from keras.models import Sequential\n",
    "from keras.layers import Dense, Dropout, Flatten, Conv2D, MaxPooling2D\n",
    "from keras.callbacks import ModelCheckpoint, EarlyStopping\n",
    "\n",
    "import matplotlib.pyplot as plt\n",
    "import numpy\n",
    "import os\n",
    "import tensorflow as tf\n",
    "\n",
    "# seed 값 설정합니다.\n",
    "seed = 0\n",
    "numpy.random.seed(seed)\n",
    "tf.compat.v1.set_random_seed(seed)\n",
    "\n",
    "# MNIST 데이터 불러옵니다.\n",
    "(X_train, Y_train), (X_test, Y_test) = mnist.load_data()\n",
    "\n",
    "X_train = X_train.reshape(X_train.shape[0], 28, 28, 1).astype('float32')/255\n",
    "X_test = X_test.reshape(X_test.shape[0], 28, 28, 1).astype('float32')/255\n",
    "\n",
    "Y_train = np_utils.to_categorical(Y_train, 10)\n",
    "Y_test = np_utils.to_categorical(Y_test, 10)\n",
    "\n",
    "\n",
    "# 모델 프레임 설정합니다.\n",
    "# 컨볼루션 신경망 설정합니다.\n",
    "model = Sequential()\n",
    "model.add(Conv2D(32, kernel_size=(3,3), input_shape=(28,28,1), activation='relu'))\n",
    "model.add(Conv2D(64, (3,3), activation='relu'))\n",
    "model.add(MaxPooling2D(pool_size=2))\n",
    "model.add(Dropout(0.25))\n",
    "model.add(Flatten())\n",
    "model.add(Dense(128, activation='relu'))\n",
    "model.add(Dropout(0.5))\n",
    "model.add(Dense(10, activation='softmax'))\n",
    "\n",
    "\n",
    "# 모델 실행 환경 설정합니다.\n",
    "model.compile(loss='categorical_crossentropy',\n",
    "             optimizer='adam',\n",
    "             metrics=['accuracy'])\n",
    "\n",
    "\n",
    "# # 모델 최적화 설정합니다.\n",
    "# MODEL_DIR = './model/handwrite_model/'\n",
    "# if not os.path.exists(MODEL_DIR):\n",
    "#     os.mkdir(MODEL_DIR)\n",
    "    \n",
    "# modelpath = './model/{epoch:02d}-{val_loss:.4f}.hdf5'\n",
    "# checkpointer = ModelCheckpoint(filepath=modelpath, monitor='val_loss', verbose=1, save_best_only=True)\n",
    "early_stopping_callback = EarlyStopping(monitor='val_loss', patience=10)\n",
    "\n",
    "# 모델을 실행합니다.\n",
    "history = model.fit(X_train, Y_train, validation_data=(X_test, Y_test), epochs=5, batch_size=200, verbose=1, callbacks=[early_stopping_callback])\n",
    "\n",
    "# 테스트 정확도를 출력합니다.\n",
    "print(\"\\n Test Accuracy : %.4f\" %(model.evaluate(X_test, Y_test)[1]))\n",
    "\n",
    "# 테스트셋의 오차\n",
    "y_vloss = history.history['val_loss']\n",
    "\n",
    "# 학습셋의 오차\n",
    "y_loss = history.history['loss']\n",
    "\n",
    "# 그래프로 표현합니다.\n",
    "x_len = numpy.arange(len(y_loss))\n",
    "plt.plot(x_len, y_vloss, marker='.', c=\"red\", label=\"Testset_loss\")\n",
    "plt.plot(x_len, y_loss, marker='.', c=\"blue\", label=\"Trainset_loss\")\n",
    "\n",
    "# 그래프에 그리드를 주고 레이블을 표시합니다.\n",
    "plt.legend(loc='best')\n",
    "plt.grid()\n",
    "plt.xlabel('epoch')\n",
    "plt.ylabel('loss')\n",
    "plt.show()"
   ]
  }
 ],
 "metadata": {
  "kernelspec": {
   "display_name": "Python 3 (ipykernel)",
   "language": "python",
   "name": "python3"
  },
  "language_info": {
   "codemirror_mode": {
    "name": "ipython",
    "version": 3
   },
   "file_extension": ".py",
   "mimetype": "text/x-python",
   "name": "python",
   "nbconvert_exporter": "python",
   "pygments_lexer": "ipython3",
   "version": "3.8.10"
  }
 },
 "nbformat": 4,
 "nbformat_minor": 5
}
