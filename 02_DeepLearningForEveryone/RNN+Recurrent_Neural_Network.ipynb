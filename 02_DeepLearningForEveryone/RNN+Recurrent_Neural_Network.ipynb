{
 "cells": [
  {
   "cell_type": "markdown",
   "id": "95fb1da0",
   "metadata": {},
   "source": [
    "# Reuters 뉴스 기사 카테고리 분류하기"
   ]
  },
  {
   "cell_type": "code",
   "execution_count": 2,
   "id": "369fabdf",
   "metadata": {
    "scrolled": false
   },
   "outputs": [
    {
     "name": "stdout",
     "output_type": "stream",
     "text": [
      "46 카테고리\n",
      "8982 학습용 뉴스 기사\n",
      "2246 테스트용 뉴스 기사\n",
      "[1, 2, 2, 8, 43, 10, 447, 5, 25, 207, 270, 5, 2, 111, 16, 369, 186, 90, 67, 7, 89, 5, 19, 102, 6, 19, 124, 15, 90, 67, 84, 22, 482, 26, 7, 48, 4, 49, 8, 864, 39, 209, 154, 6, 151, 6, 83, 11, 15, 22, 155, 11, 15, 7, 48, 9, 2, 2, 504, 6, 258, 6, 272, 11, 15, 22, 134, 44, 11, 15, 16, 8, 197, 2, 90, 67, 52, 29, 209, 30, 32, 132, 6, 109, 15, 17, 12]\n"
     ]
    }
   ],
   "source": [
    "from keras.datasets import reuters\n",
    "from keras.utils import np_utils\n",
    "from keras.models import Sequential\n",
    "from keras.layers import Dense, LSTM, Embedding\n",
    "from keras.preprocessing import sequence\n",
    "\n",
    "import matplotlib.pyplot as plt\n",
    "import numpy\n",
    "import tensorflow as tf\n",
    "\n",
    "# seed 값 설정합니다.\n",
    "seed = 0\n",
    "numpy.random.seed(seed)\n",
    "tf.compat.v1.set_random_seed(seed)\n",
    "\n",
    "# MNIST 데이터 불러옵니다.\n",
    "(X_train, Y_train), (X_test, Y_test) = reuters.load_data(num_words=1000, test_split=0.2)\n",
    "\n",
    "# 데이터를 확인합니다.\n",
    "category = numpy.max(Y_train) + 1\n",
    "print(category, '카테고리')\n",
    "print(len(X_train), '학습용 뉴스 기사')\n",
    "print(len(X_test), '테스트용 뉴스 기사')\n",
    "print(X_train[0])\n",
    "\n"
   ]
  },
  {
   "cell_type": "code",
   "execution_count": 4,
   "id": "6bf8e6f7",
   "metadata": {},
   "outputs": [],
   "source": [
    "# 데이터 전처리 합니다.\n",
    "x_train = sequence.pad_sequences(X_train, maxlen=100)\n",
    "x_test = sequence.pad_sequences(X_test, maxlen=100)\n",
    "y_train = np_utils.to_categorical(Y_train)\n",
    "y_test = np_utils.to_categorical(Y_test)"
   ]
  },
  {
   "cell_type": "code",
   "execution_count": 6,
   "id": "c475a7ca",
   "metadata": {},
   "outputs": [],
   "source": [
    "# 모델을 설정 합니다.\n",
    "model = Sequential()\n",
    "model.add(Embedding(1000, 100))\n",
    "model.add(LSTM(100, activation='tanh'))\n",
    "model.add(Dense(46, activation='softmax'))"
   ]
  },
  {
   "cell_type": "code",
   "execution_count": 7,
   "id": "d7ca762c",
   "metadata": {},
   "outputs": [],
   "source": [
    "# 모델을 컴파일 합니다.\n",
    "model.compile(loss='categorical_crossentropy',\n",
    "             optimizer='adam',\n",
    "             metrics=['accuracy'])"
   ]
  },
  {
   "cell_type": "code",
   "execution_count": 8,
   "id": "8228ca5c",
   "metadata": {
    "scrolled": true
   },
   "outputs": [
    {
     "name": "stdout",
     "output_type": "stream",
     "text": [
      "Epoch 1/20\n",
      "90/90 [==============================] - 23s 228ms/step - loss: 2.5836 - accuracy: 0.3450 - val_loss: 2.3265 - val_accuracy: 0.4524\n",
      "Epoch 2/20\n",
      "90/90 [==============================] - 20s 222ms/step - loss: 2.0901 - accuracy: 0.4744 - val_loss: 2.0091 - val_accuracy: 0.4987\n",
      "Epoch 3/20\n",
      "90/90 [==============================] - 21s 235ms/step - loss: 1.9361 - accuracy: 0.5036 - val_loss: 1.9042 - val_accuracy: 0.5240\n",
      "Epoch 4/20\n",
      "90/90 [==============================] - 21s 234ms/step - loss: 1.7931 - accuracy: 0.5275 - val_loss: 1.7732 - val_accuracy: 0.5481\n",
      "Epoch 5/20\n",
      "90/90 [==============================] - 21s 234ms/step - loss: 1.6743 - accuracy: 0.5642 - val_loss: 1.6850 - val_accuracy: 0.5686\n",
      "Epoch 6/20\n",
      "90/90 [==============================] - 23s 251ms/step - loss: 1.6221 - accuracy: 0.5814 - val_loss: 1.6959 - val_accuracy: 0.5717\n",
      "Epoch 7/20\n",
      "90/90 [==============================] - 20s 224ms/step - loss: 1.5725 - accuracy: 0.5986 - val_loss: 1.6060 - val_accuracy: 0.6095\n",
      "Epoch 8/20\n",
      "90/90 [==============================] - 20s 227ms/step - loss: 1.4593 - accuracy: 0.6352 - val_loss: 1.5027 - val_accuracy: 0.6273\n",
      "Epoch 9/20\n",
      "90/90 [==============================] - 20s 227ms/step - loss: 1.3519 - accuracy: 0.6541 - val_loss: 1.4794 - val_accuracy: 0.6296\n",
      "Epoch 10/20\n",
      "90/90 [==============================] - 21s 228ms/step - loss: 1.2625 - accuracy: 0.6781 - val_loss: 1.3763 - val_accuracy: 0.6581\n",
      "Epoch 11/20\n",
      "90/90 [==============================] - 20s 227ms/step - loss: 1.1814 - accuracy: 0.6986 - val_loss: 1.3370 - val_accuracy: 0.6714\n",
      "Epoch 12/20\n",
      "90/90 [==============================] - 20s 228ms/step - loss: 1.1102 - accuracy: 0.7196 - val_loss: 1.2588 - val_accuracy: 0.6870\n",
      "Epoch 13/20\n",
      "90/90 [==============================] - 20s 227ms/step - loss: 1.0454 - accuracy: 0.7386 - val_loss: 1.2767 - val_accuracy: 0.6870\n",
      "Epoch 14/20\n",
      "90/90 [==============================] - 22s 242ms/step - loss: 0.9998 - accuracy: 0.7493 - val_loss: 1.2382 - val_accuracy: 0.6999\n",
      "Epoch 15/20\n",
      "90/90 [==============================] - 21s 229ms/step - loss: 0.9648 - accuracy: 0.7591 - val_loss: 1.1859 - val_accuracy: 0.7070\n",
      "Epoch 16/20\n",
      "90/90 [==============================] - 20s 227ms/step - loss: 0.8971 - accuracy: 0.7718 - val_loss: 1.1852 - val_accuracy: 0.7146\n",
      "Epoch 17/20\n",
      "90/90 [==============================] - 20s 227ms/step - loss: 0.8602 - accuracy: 0.7815 - val_loss: 1.2119 - val_accuracy: 0.7039\n",
      "Epoch 18/20\n",
      "90/90 [==============================] - 20s 226ms/step - loss: 0.8327 - accuracy: 0.7880 - val_loss: 1.1514 - val_accuracy: 0.7146\n",
      "Epoch 19/20\n",
      "90/90 [==============================] - 20s 228ms/step - loss: 0.8041 - accuracy: 0.7966 - val_loss: 1.1472 - val_accuracy: 0.7150\n",
      "Epoch 20/20\n",
      "90/90 [==============================] - 20s 227ms/step - loss: 0.7657 - accuracy: 0.8010 - val_loss: 1.1779 - val_accuracy: 0.7142\n",
      "71/71 [==============================] - 3s 36ms/step - loss: 1.1779 - accuracy: 0.7142\n",
      "\n",
      " Test Accuracy : 0.7142\n"
     ]
    }
   ],
   "source": [
    "# 모델을 실행합니다.\n",
    "history = model.fit(x_train, y_train, validation_data=(x_test, y_test), epochs=20, batch_size=100)\n",
    "\n",
    "# 테스트 정확도를 출력합니다.\n",
    "print(\"\\n Test Accuracy : %.4f\" %(model.evaluate(x_test, y_test)[1]))\n",
    "\n",
    "# 테스트셋의 오차\n",
    "y_vloss = history.history['val_loss']\n",
    "\n",
    "# 학습셋의 오차\n",
    "y_loss = history.history['loss']"
   ]
  },
  {
   "cell_type": "code",
   "execution_count": 11,
   "id": "30c69f58",
   "metadata": {
    "scrolled": true
   },
   "outputs": [
    {
     "data": {
      "image/png": "[encoded data removed]",
      "text/plain": [
       "<Figure size 432x288 with 1 Axes>"
      ]
     },
     "metadata": {
      "needs_background": "light"
     },
     "output_type": "display_data"
    }
   ],
   "source": [
    "# 그래프로 표현합니다.\n",
    "x_len = numpy.arange(len(y_loss))\n",
    "plt.plot(x_len, y_vloss, marker='.', c=\"red\", label=\"Testset_loss\")\n",
    "plt.plot(x_len, y_loss, marker='.', c=\"blue\", label=\"Trainset_loss\")\n",
    "\n",
    "# 그래프에 그리드를 주고 레이블을 표시합니다.\n",
    "plt.legend(loc='best')\n",
    "plt.grid()\n",
    "plt.xlabel('epoch')\n",
    "plt.ylabel('loss')\n",
    "plt.show()"
   ]
  },
  {
   "cell_type": "code",
   "execution_count": 10,
   "id": "6508e34f",
   "metadata": {
    "scrolled": true
   },
   "outputs": [
    {
     "name": "stdout",
     "output_type": "stream",
     "text": [
      "Epoch 1/20\n",
      "90/90 [==============================] - 22s 224ms/step - loss: 2.5634 - accuracy: 0.3657 - val_loss: 2.1714 - val_accuracy: 0.4871\n",
      "Epoch 2/20\n",
      "90/90 [==============================] - 20s 221ms/step - loss: 2.0454 - accuracy: 0.4928 - val_loss: 1.9884 - val_accuracy: 0.5125\n",
      "Epoch 3/20\n",
      "90/90 [==============================] - 20s 219ms/step - loss: 1.8767 - accuracy: 0.5263 - val_loss: 1.7539 - val_accuracy: 0.5614\n",
      "Epoch 4/20\n",
      "90/90 [==============================] - 20s 223ms/step - loss: 1.6930 - accuracy: 0.5684 - val_loss: 1.8266 - val_accuracy: 0.5280\n",
      "Epoch 5/20\n",
      "90/90 [==============================] - 20s 224ms/step - loss: 1.6557 - accuracy: 0.5718 - val_loss: 1.7064 - val_accuracy: 0.5663\n",
      "Epoch 6/20\n",
      "90/90 [==============================] - 20s 220ms/step - loss: 1.5829 - accuracy: 0.5980 - val_loss: 1.6114 - val_accuracy: 0.5859\n",
      "Epoch 7/20\n",
      "90/90 [==============================] - 20s 219ms/step - loss: 1.5184 - accuracy: 0.6172 - val_loss: 1.5642 - val_accuracy: 0.6037\n",
      "Epoch 8/20\n",
      "90/90 [==============================] - 20s 221ms/step - loss: 1.4554 - accuracy: 0.6383 - val_loss: 1.4911 - val_accuracy: 0.6345\n",
      "Epoch 9/20\n",
      "90/90 [==============================] - 20s 221ms/step - loss: 1.3401 - accuracy: 0.6649 - val_loss: 1.3947 - val_accuracy: 0.6514\n",
      "Epoch 10/20\n",
      "90/90 [==============================] - 20s 222ms/step - loss: 1.2491 - accuracy: 0.6831 - val_loss: 1.4236 - val_accuracy: 0.6447\n",
      "Epoch 11/20\n",
      "90/90 [==============================] - 20s 221ms/step - loss: 1.2194 - accuracy: 0.6913 - val_loss: 1.3558 - val_accuracy: 0.6554\n",
      "Epoch 12/20\n",
      "90/90 [==============================] - 20s 221ms/step - loss: 1.1343 - accuracy: 0.7096 - val_loss: 1.2620 - val_accuracy: 0.6812\n",
      "Epoch 13/20\n",
      "90/90 [==============================] - 20s 228ms/step - loss: 1.0745 - accuracy: 0.7257 - val_loss: 1.2918 - val_accuracy: 0.6817\n",
      "Epoch 14/20\n",
      "90/90 [==============================] - 20s 224ms/step - loss: 1.0335 - accuracy: 0.7387 - val_loss: 1.2309 - val_accuracy: 0.6866\n",
      "Epoch 15/20\n",
      "90/90 [==============================] - 20s 223ms/step - loss: 0.9842 - accuracy: 0.7523 - val_loss: 1.2079 - val_accuracy: 0.7026\n",
      "Epoch 16/20\n",
      "90/90 [==============================] - 20s 226ms/step - loss: 0.9442 - accuracy: 0.7596 - val_loss: 1.1958 - val_accuracy: 0.7088\n",
      "Epoch 17/20\n",
      "90/90 [==============================] - 21s 230ms/step - loss: 0.9088 - accuracy: 0.7703 - val_loss: 1.2047 - val_accuracy: 0.7110\n",
      "Epoch 18/20\n",
      "90/90 [==============================] - 20s 224ms/step - loss: 0.8698 - accuracy: 0.7804 - val_loss: 1.1947 - val_accuracy: 0.7079\n",
      "Epoch 19/20\n",
      "90/90 [==============================] - 20s 224ms/step - loss: 0.8317 - accuracy: 0.7895 - val_loss: 1.2027 - val_accuracy: 0.7061\n",
      "Epoch 20/20\n",
      "90/90 [==============================] - 20s 224ms/step - loss: 0.7937 - accuracy: 0.7978 - val_loss: 1.2157 - val_accuracy: 0.7093\n",
      "71/71 [==============================] - 3s 36ms/step - loss: 1.2157 - accuracy: 0.7093\n",
      "\n",
      " Test Accuracy : 0.7093\n"
     ]
    }
   ],
   "source": [
    "from keras.datasets import reuters\n",
    "from keras.utils import np_utils\n",
    "from keras.models import Sequential\n",
    "from keras.layers import Dense, LSTM, Embedding\n",
    "from keras.preprocessing import sequence\n",
    "\n",
    "import matplotlib.pyplot as plt\n",
    "import numpy\n",
    "import tensorflow as tf\n",
    "\n",
    "\n",
    "# seed 값 설정합니다.\n",
    "seed = 0\n",
    "numpy.random.seed(seed)\n",
    "tf.compat.v1.set_random_seed(seed)\n",
    "\n",
    "(X_train, Y_train), (X_test, Y_test)  = reuters.load_data(num_words=1000, test_split=0.2)\n",
    "\n",
    "category = numpy.max(Y_train) + 1\n",
    "# print(\"category : \", category)\n",
    "# print(len(X_train), \"학습용 뉴스 기사\")\n",
    "# print(len(X_test), \"테스트용 뉴스 기사\")\n",
    "# print(X_train[0])\n",
    "# print(len(X_train[0]))\n",
    "# print(Y_train[0])\n",
    "\n",
    "# 데이터 전처리 합니다.\n",
    "x_train = sequence.pad_sequences(X_train, maxlen=100)\n",
    "x_test = sequence.pad_sequences(X_test, maxlen=100)\n",
    "y_train = np_utils.to_categorical(Y_train)\n",
    "y_test = np_utils.to_categorical(Y_test)\n",
    "\n",
    "# 모델을 설정 합니다.\n",
    "model = Sequential()\n",
    "model.add(Embedding(1000, 100))\n",
    "model.add(LSTM(100, activation='tanh'))\n",
    "model.add(Dense(46, activation='softmax'))\n",
    "\n",
    "# 모델을 컴파일 합니다.\n",
    "model.compile(loss='categorical_crossentropy',\n",
    "             optimizer='adam',\n",
    "             metrics=['accuracy'])\n",
    "\n",
    "# 모델을 실행합니다.\n",
    "model.fit(x_train, y_train, validation_data=(x_test, y_test), epochs=20, batch_size=100)\n",
    "\n",
    "# 테스트 정확도를 출력합니다.\n",
    "print(\"\\n Test Accuracy : %.4f\" %(model.evaluate(x_test, y_test)[1]))\n"
   ]
  }
 ],
 "metadata": {
  "kernelspec": {
   "display_name": "Python 3 (ipykernel)",
   "language": "python",
   "name": "python3"
  },
  "language_info": {
   "codemirror_mode": {
    "name": "ipython",
    "version": 3
   },
   "file_extension": ".py",
   "mimetype": "text/x-python",
   "name": "python",
   "nbconvert_exporter": "python",
   "pygments_lexer": "ipython3",
   "version": "3.8.10"
  }
 },
 "nbformat": 4,
 "nbformat_minor": 5
}
